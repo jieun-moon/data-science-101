version https://git-lfs.github.com/spec/v1
oid sha256:fc3eec3f9d076c20b48d8daef06dccca6206b2c03be264b42146ee6fcd56160a
size 3282307
