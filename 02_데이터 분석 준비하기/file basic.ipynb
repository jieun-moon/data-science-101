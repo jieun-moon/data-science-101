version https://git-lfs.github.com/spec/v1
oid sha256:6edc20601e407b6e719f255d9523e3d46079e0ebca422bc1ec3fd1ca186267cc
size 21691
